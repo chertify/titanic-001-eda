{
 "cells": [
  {
   "cell_type": "markdown",
   "id": "ae68776d",
   "metadata": {},
   "source": [
    "# Light Data Exploration on Titanic"
   ]
  },
  {
   "cell_type": "markdown",
   "id": "5a480c8f",
   "metadata": {},
   "source": [
    "## A. Importing and Creating DataFrame and Fixing Missing Values"
   ]
  },
  {
   "cell_type": "code",
   "execution_count": 1,
   "id": "d3f8d453",
   "metadata": {},
   "outputs": [],
   "source": [
    "import pandas as pd\n",
    "import seaborn as sns\n",
    "import math as math\n",
    "import numpy as np\n",
    "from matplotlib import pyplot as plt\n",
    "from scipy import stats\n",
    "%matplotlib inline\n"
   ]
  },
  {
   "cell_type": "code",
   "execution_count": 7,
   "id": "91fe9073",
   "metadata": {},
   "outputs": [],
   "source": [
    "clean_titan_df = pd.read_csv('../data/clean_titan_df.csv')"
   ]
  },
  {
   "cell_type": "code",
   "execution_count": 8,
   "id": "3ff36725",
   "metadata": {},
   "outputs": [
    {
     "name": "stdout",
     "output_type": "stream",
     "text": [
      "<class 'pandas.core.frame.DataFrame'>\n",
      "RangeIndex: 891 entries, 0 to 890\n",
      "Data columns (total 16 columns):\n",
      " #   Column       Non-Null Count  Dtype  \n",
      "---  ------       --------------  -----  \n",
      " 0   Unnamed: 0   891 non-null    int64  \n",
      " 1   PassengerId  891 non-null    int64  \n",
      " 2   Survived     891 non-null    int64  \n",
      " 3   Pclass       891 non-null    int64  \n",
      " 4   Name         891 non-null    object \n",
      " 5   Sex          891 non-null    object \n",
      " 6   Age          891 non-null    float64\n",
      " 7   SibSp        891 non-null    int64  \n",
      " 8   Parch        891 non-null    int64  \n",
      " 9   Ticket       891 non-null    object \n",
      " 10  Fare         891 non-null    float64\n",
      " 11  Cabin        204 non-null    object \n",
      " 12  Embarked     889 non-null    object \n",
      " 13  Titles       891 non-null    object \n",
      " 14  AgeBracket   891 non-null    object \n",
      " 15  Status       891 non-null    object \n",
      "dtypes: float64(2), int64(6), object(8)\n",
      "memory usage: 111.5+ KB\n"
     ]
    }
   ],
   "source": [
    "clean_titan_df.info()"
   ]
  },
  {
   "cell_type": "markdown",
   "id": "95bdb201",
   "metadata": {},
   "source": [
    "## B. TABLE & VISUALIZATION"
   ]
  },
  {
   "cell_type": "code",
   "execution_count": 9,
   "id": "a7778f11",
   "metadata": {},
   "outputs": [
    {
     "data": {
      "text/plain": [
       "<AxesSubplot:xlabel='Pclass', ylabel='count'>"
      ]
     },
     "execution_count": 9,
     "metadata": {},
     "output_type": "execute_result"
    },
    {
     "data": {
      "image/png": "[encoded data removed]",
      "text/plain": [
       "<Figure size 432x288 with 1 Axes>"
      ]
     },
     "metadata": {
      "needs_background": "light"
     },
     "output_type": "display_data"
    }
   ],
   "source": [
    "# -------------------------------\n",
    "# Overview of number of passengers in each class\n",
    "# -------------------------------\n",
    "# shows the frequency of each Pclass using Bargraph (or countplot)\n",
    "# The most number of passengers are distributed on the 3rd class\n",
    "\n",
    "sns.countplot(x=\"Pclass\", data=clean_titan_df)\n"
   ]
  },
  {
   "cell_type": "code",
   "execution_count": 10,
   "id": "319b9604",
   "metadata": {},
   "outputs": [
    {
     "data": {
      "text/plain": [
       "3    491\n",
       "1    216\n",
       "2    184\n",
       "Name: Pclass, dtype: int64"
      ]
     },
     "execution_count": 10,
     "metadata": {},
     "output_type": "execute_result"
    }
   ],
   "source": [
    "# Shows the number of passengers in each class for both who survived and not\n",
    "\n",
    "clean_titan_df['Pclass'].value_counts()"
   ]
  },
  {
   "cell_type": "code",
   "execution_count": 11,
   "id": "a5624536",
   "metadata": {},
   "outputs": [
    {
     "data": {
      "text/plain": [
       "Unnamed: 0     342\n",
       "PassengerId    342\n",
       "Survived       342\n",
       "Pclass         342\n",
       "Name           342\n",
       "Sex            342\n",
       "Age            342\n",
       "SibSp          342\n",
       "Parch          342\n",
       "Ticket         342\n",
       "Fare           342\n",
       "Cabin          136\n",
       "Embarked       340\n",
       "Titles         342\n",
       "AgeBracket     342\n",
       "Status         342\n",
       "dtype: int64"
      ]
     },
     "execution_count": 11,
     "metadata": {},
     "output_type": "execute_result"
    }
   ],
   "source": [
    "# Total number of those who survived  in each variable\n",
    "clean_titan_df[clean_titan_df['Survived']==1].count()"
   ]
  },
  {
   "cell_type": "code",
   "execution_count": 12,
   "id": "58442a03",
   "metadata": {},
   "outputs": [
    {
     "data": {
      "text/plain": [
       "Unnamed: 0     549\n",
       "PassengerId    549\n",
       "Survived       549\n",
       "Pclass         549\n",
       "Name           549\n",
       "Sex            549\n",
       "Age            549\n",
       "SibSp          549\n",
       "Parch          549\n",
       "Ticket         549\n",
       "Fare           549\n",
       "Cabin           68\n",
       "Embarked       549\n",
       "Titles         549\n",
       "AgeBracket     549\n",
       "Status         549\n",
       "dtype: int64"
      ]
     },
     "execution_count": 12,
     "metadata": {},
     "output_type": "execute_result"
    }
   ],
   "source": [
    "# Total number of those who did not survive in each variable\n",
    "clean_titan_df[clean_titan_df['Survived']==0].count()"
   ]
  },
  {
   "cell_type": "code",
   "execution_count": 13,
   "id": "b8dda52e",
   "metadata": {},
   "outputs": [
    {
     "data": {
      "text/plain": [
       "342"
      ]
     },
     "execution_count": 13,
     "metadata": {},
     "output_type": "execute_result"
    }
   ],
   "source": [
    "# Sum of all who survived\n",
    "\n",
    "clean_titan_df['Survived'].sum()"
   ]
  },
  {
   "cell_type": "code",
   "execution_count": 27,
   "id": "f493f8fa",
   "metadata": {},
   "outputs": [
    {
     "data": {
      "text/plain": [
       "0.3838383838383838"
      ]
     },
     "execution_count": 27,
     "metadata": {},
     "output_type": "execute_result"
    }
   ],
   "source": [
    "# Survival rate\n",
    "\n",
    "clean_titan_df['Survived'].mean()"
   ]
  },
  {
   "cell_type": "markdown",
   "id": "c0dde9c2",
   "metadata": {},
   "source": [
    "The calculation above only shows that there are 38% who survived."
   ]
  },
  {
   "cell_type": "code",
   "execution_count": 28,
   "id": "24d10590",
   "metadata": {},
   "outputs": [
    {
     "data": {
      "text/html": [
       "<div>\n",
       "<style scoped>\n",
       "    .dataframe tbody tr th:only-of-type {\n",
       "        vertical-align: middle;\n",
       "    }\n",
       "\n",
       "    .dataframe tbody tr th {\n",
       "        vertical-align: top;\n",
       "    }\n",
       "\n",
       "    .dataframe thead th {\n",
       "        text-align: right;\n",
       "    }\n",
       "</style>\n",
       "<table border=\"1\" class=\"dataframe\">\n",
       "  <thead>\n",
       "    <tr style=\"text-align: right;\">\n",
       "      <th></th>\n",
       "      <th>PassengerId</th>\n",
       "      <th>Survived</th>\n",
       "      <th>Age</th>\n",
       "      <th>SibSp</th>\n",
       "      <th>Parch</th>\n",
       "      <th>Fare</th>\n",
       "    </tr>\n",
       "    <tr>\n",
       "      <th>Pclass</th>\n",
       "      <th></th>\n",
       "      <th></th>\n",
       "      <th></th>\n",
       "      <th></th>\n",
       "      <th></th>\n",
       "      <th></th>\n",
       "    </tr>\n",
       "  </thead>\n",
       "  <tbody>\n",
       "    <tr>\n",
       "      <th>1</th>\n",
       "      <td>461.597222</td>\n",
       "      <td>0.629630</td>\n",
       "      <td>38.233441</td>\n",
       "      <td>0.416667</td>\n",
       "      <td>0.356481</td>\n",
       "      <td>84.154687</td>\n",
       "    </tr>\n",
       "    <tr>\n",
       "      <th>2</th>\n",
       "      <td>445.956522</td>\n",
       "      <td>0.472826</td>\n",
       "      <td>29.877630</td>\n",
       "      <td>0.402174</td>\n",
       "      <td>0.380435</td>\n",
       "      <td>20.662183</td>\n",
       "    </tr>\n",
       "    <tr>\n",
       "      <th>3</th>\n",
       "      <td>439.154786</td>\n",
       "      <td>0.242363</td>\n",
       "      <td>25.140620</td>\n",
       "      <td>0.615071</td>\n",
       "      <td>0.393075</td>\n",
       "      <td>13.675550</td>\n",
       "    </tr>\n",
       "  </tbody>\n",
       "</table>\n",
       "</div>"
      ],
      "text/plain": [
       "        PassengerId  Survived        Age     SibSp     Parch       Fare\n",
       "Pclass                                                                 \n",
       "1        461.597222  0.629630  38.233441  0.416667  0.356481  84.154687\n",
       "2        445.956522  0.472826  29.877630  0.402174  0.380435  20.662183\n",
       "3        439.154786  0.242363  25.140620  0.615071  0.393075  13.675550"
      ]
     },
     "execution_count": 28,
     "metadata": {},
     "output_type": "execute_result"
    }
   ],
   "source": [
    "# we can group data by class and view the averages for each column\n",
    "\n",
    "df.groupby('Pclass').mean()"
   ]
  },
  {
   "cell_type": "markdown",
   "id": "eac70dbd",
   "metadata": {},
   "source": [
    "### Survival Rate and Passenger Class"
   ]
  },
  {
   "cell_type": "markdown",
   "id": "a6e4e795",
   "metadata": {},
   "source": [
    "1 represents those who survived.  \n",
    "It can be observed that there are more Class 1 (blue bar) who survived when compared to those Class 1 who died.\n",
    "\n",
    "0 represents those who died.  The least least survival rate belongs to Class 3 (green bar) when compared to Class 3 who survied"
   ]
  },
  {
   "cell_type": "code",
   "execution_count": 29,
   "id": "d92df541",
   "metadata": {},
   "outputs": [
    {
     "data": {
      "text/plain": [
       "<AxesSubplot:xlabel='Survived', ylabel='count'>"
      ]
     },
     "execution_count": 29,
     "metadata": {},
     "output_type": "execute_result"
    },
    {
     "data": {
      "image/png": "[encoded data removed]",
      "text/plain": [
       "<Figure size 432x288 with 1 Axes>"
      ]
     },
     "metadata": {
      "needs_background": "light"
     },
     "output_type": "display_data"
    }
   ],
   "source": [
    "sns.countplot(x='Survived', data=clean_titan_df, hue='Pclass')"
   ]
  },
  {
   "cell_type": "markdown",
   "id": "bbe59d3f",
   "metadata": {},
   "source": [
    "Shows the survival rate per passenger class"
   ]
  },
  {
   "cell_type": "code",
   "execution_count": 30,
   "id": "46d05847",
   "metadata": {},
   "outputs": [
    {
     "data": {
      "text/plain": [
       "Pclass\n",
       "1    0.629630\n",
       "2    0.472826\n",
       "3    0.242363\n",
       "Name: Survived, dtype: float64"
      ]
     },
     "execution_count": 30,
     "metadata": {},
     "output_type": "execute_result"
    }
   ],
   "source": [
    "clean_titan_df.groupby('Pclass').mean()['Survived']\n"
   ]
  },
  {
   "cell_type": "markdown",
   "id": "f701b5f7",
   "metadata": {},
   "source": [
    "63% survival rate for Class 1, 47% for class 2 and 24% for class 3.  This shows us that survival rate is higher in class 1 than in class 2 or 3.  So, the better standing of class you are, the higher your probability of survival."
   ]
  },
  {
   "cell_type": "markdown",
   "id": "7ae472ca",
   "metadata": {},
   "source": [
    "Let's translate the mean values of survival rate for the Passenger Clas (Pclass) using the bar graph below."
   ]
  },
  {
   "cell_type": "code",
   "execution_count": 31,
   "id": "3fcbeaa3",
   "metadata": {},
   "outputs": [
    {
     "data": {
      "text/plain": [
       "<AxesSubplot:xlabel='Pclass'>"
      ]
     },
     "execution_count": 31,
     "metadata": {},
     "output_type": "execute_result"
    },
    {
     "data": {
      "image/png": "[encoded data removed]",
      "text/plain": [
       "<Figure size 432x288 with 1 Axes>"
      ]
     },
     "metadata": {
      "needs_background": "light"
     },
     "output_type": "display_data"
    }
   ],
   "source": [
    "\n",
    "clean_titan_df.groupby('Pclass').mean()['Survived'].plot.bar(\n",
    "    width=0.5,\n",
    "    color='red'\n",
    ")"
   ]
  },
  {
   "cell_type": "code",
   "execution_count": 32,
   "id": "14ac0a3a",
   "metadata": {},
   "outputs": [
    {
     "data": {
      "text/plain": [
       "<AxesSubplot:>"
      ]
     },
     "execution_count": 32,
     "metadata": {},
     "output_type": "execute_result"
    },
    {
     "data": {
      "image/png": "[encoded data removed]",
      "text/plain": [
       "<Figure size 432x288 with 2 Axes>"
      ]
     },
     "metadata": {
      "needs_background": "light"
     },
     "output_type": "display_data"
    }
   ],
   "source": [
    "# Heatmap for all numerical variables\n",
    "# Pclass and survival rate plotting\n",
    "# Survival and Pclass are negatively correlated with one another (-0.34). The lower the class (the richer you are), the higher your survival rate (0 lowest, 1 highest) is\n",
    "# Survival and Fare are positively correlated with one another (0.26). The higher the fare is paid, the greater chances of surviving.\n",
    "sns.heatmap(clean_titan_df.corr(), \n",
    "            cmap=\"RdBu\", \n",
    "            annot=True, \n",
    "            center=0, \n",
    "            vmin=-1, \n",
    "            vmax=1\n",
    "           )\n"
   ]
  },
  {
   "cell_type": "code",
   "execution_count": 33,
   "id": "5d825360",
   "metadata": {},
   "outputs": [
    {
     "name": "stdout",
     "output_type": "stream",
     "text": [
      "Correlation between Survived and Pclass: -0.34\n",
      "P-value of Survived and Pclass: 0.0\n"
     ]
    }
   ],
   "source": [
    "# Correlation and p-value of 'Survived' and P-class\n",
    "# Survival is negatively correlated to the Passenger class, with correlation coefficient (r) of -0.34 \n",
    "# There is a less likelihood that this has happened by chance based on its p-value of 0 \n",
    "# We reject the null hypothesis, and accept the alternative hypothesis that these variables are associated \n",
    "# .. with one another.\n",
    "\n",
    "r, p = stats.pearsonr(clean_titan_df.Survived, clean_titan_df.Pclass)\n",
    "print(\"Correlation between Survived and Pclass: {}\".format(round(r, 2)))\n",
    "print(\"P-value of Survived and Pclass: {}\".format(round(p, 2)))"
   ]
  },
  {
   "cell_type": "code",
   "execution_count": 34,
   "id": "428643ac",
   "metadata": {},
   "outputs": [
    {
     "name": "stdout",
     "output_type": "stream",
     "text": [
      "Correlation between Survived and Pclass: 0.26\n",
      "P-value of Survived and Pclass: 0.0\n"
     ]
    }
   ],
   "source": [
    "# Correlation and p-value of 'Survived' and P-class\n",
    "# Survival is positively correlated to the Fare, with correlation coefficient (r) of 0.26 \n",
    "# There is a less likelihood that this has happened by chance based on its p-value of 0 \n",
    "# We reject the null hypothesis, and accept the alternative hypothesis that these variables are associated \n",
    "# .. with one another.\n",
    "\n",
    "r, p = stats.pearsonr(clean_titan_df.Survived, clean_titan_df.Fare)\n",
    "print(\"Correlation between Survived and Pclass: {}\".format(round(r, 2)))\n",
    "print(\"P-value of Survived and Pclass: {}\".format(round(p, 2)))"
   ]
  },
  {
   "cell_type": "code",
   "execution_count": 35,
   "id": "3d669450",
   "metadata": {},
   "outputs": [
    {
     "name": "stdout",
     "output_type": "stream",
     "text": [
      "        Survived\n",
      "Pclass          \n",
      "1       0.629630\n",
      "2       0.472826\n",
      "3       0.242363\n"
     ]
    }
   ],
   "source": [
    "# Shows the mean (from 0 to 1) survival rate for each Class\n",
    "# Class 1 has the highest survival rate, followed by class 2, then class 1\n",
    "\n",
    "print(clean_titan_df[['Pclass','Survived']].groupby('Pclass').mean())"
   ]
  },
  {
   "cell_type": "markdown",
   "id": "03386155",
   "metadata": {},
   "source": [
    "### General view of survival rate on Sex, Pclass and mean of Age"
   ]
  },
  {
   "cell_type": "code",
   "execution_count": 36,
   "id": "898e8c8a",
   "metadata": {},
   "outputs": [
    {
     "name": "stdout",
     "output_type": "stream",
     "text": [
      "                        mean  median\n",
      "Survived Sex    Pclass              \n",
      "0        female 1       25.7    25.0\n",
      "                2       36.0    32.5\n",
      "                3       24.4    23.0\n",
      "         male   1       42.0    39.0\n",
      "                2       33.3    32.0\n",
      "                3       28.4    32.0\n",
      "1        female 1       34.4    33.0\n",
      "                2       28.1    28.5\n",
      "                3       22.8    26.0\n",
      "         male   1       35.8    35.0\n",
      "                2       17.9     8.0\n",
      "                3       22.9    26.0\n"
     ]
    }
   ],
   "source": [
    "print(clean_titan_df.groupby(['Survived', 'Sex', 'Pclass'])['Age'].agg(['mean', 'median']).round(1))"
   ]
  },
  {
   "cell_type": "code",
   "execution_count": 37,
   "id": "91710392",
   "metadata": {},
   "outputs": [
    {
     "data": {
      "text/plain": [
       "Pclass\n",
       "1    37.0\n",
       "2    30.0\n",
       "3    27.0\n",
       "Name: Age, dtype: float64"
      ]
     },
     "execution_count": 37,
     "metadata": {},
     "output_type": "execute_result"
    }
   ],
   "source": [
    "# There are two codes that work here. You can choose anything between the two:\n",
    "\n",
    "#clean_titan_df.groupby('Pclass')['Age'].agg(['mean']).round(2)\n",
    "\n",
    "clean_titan_df.groupby('Pclass').mean()['Age'].round(0)"
   ]
  },
  {
   "cell_type": "markdown",
   "id": "e3ead6aa",
   "metadata": {},
   "source": [
    "Based on this data, we can also see that the lower the class is, the older the passengers are.\n",
    "Class 1 is much more composed by an average of 37-year-olds, Class 2 of 30-year-olds, and class 3 of 27-year-olds.  This can be visualized by the graph below."
   ]
  },
  {
   "cell_type": "code",
   "execution_count": 38,
   "id": "4ffae254",
   "metadata": {},
   "outputs": [
    {
     "data": {
      "text/plain": [
       "Text(0, 0.5, 'Age')"
      ]
     },
     "execution_count": 38,
     "metadata": {},
     "output_type": "execute_result"
    },
    {
     "data": {
      "image/png": "[encoded data removed]",
      "text/plain": [
       "<Figure size 432x288 with 1 Axes>"
      ]
     },
     "metadata": {
      "needs_background": "light"
     },
     "output_type": "display_data"
    }
   ],
   "source": [
    "clean_titan_df.groupby(['Pclass']).mean()['Age'].plot.bar(\n",
    "    width=0.5,\n",
    "    color='blue'\n",
    ")\n",
    "plt.ylabel(\"Age\")"
   ]
  },
  {
   "cell_type": "markdown",
   "id": "67f61317",
   "metadata": {},
   "source": [
    "### Survival Rate and (Sex and Passenger Class and Fare)"
   ]
  },
  {
   "cell_type": "code",
   "execution_count": 39,
   "id": "96b1deb7",
   "metadata": {},
   "outputs": [
    {
     "data": {
      "text/plain": [
       "<AxesSubplot:xlabel='Survived', ylabel='count'>"
      ]
     },
     "execution_count": 39,
     "metadata": {},
     "output_type": "execute_result"
    },
    {
     "data": {
      "image/png": "[encoded data removed]",
      "text/plain": [
       "<Figure size 432x288 with 1 Axes>"
      ]
     },
     "metadata": {
      "needs_background": "light"
     },
     "output_type": "display_data"
    }
   ],
   "source": [
    "\n",
    "sns.countplot(x='Survived', data=clean_titan_df, hue='Sex')"
   ]
  },
  {
   "cell_type": "code",
   "execution_count": 40,
   "id": "444c1c93",
   "metadata": {},
   "outputs": [
    {
     "data": {
      "text/plain": [
       "<seaborn.axisgrid.FacetGrid at 0x7fcafbdfc040>"
      ]
     },
     "execution_count": 40,
     "metadata": {},
     "output_type": "execute_result"
    },
    {
     "data": {
      "image/png": "[encoded data removed]",
      "text/plain": [
       "<Figure size 360x360 with 1 Axes>"
      ]
     },
     "metadata": {
      "needs_background": "light"
     },
     "output_type": "display_data"
    }
   ],
   "source": [
    "\n",
    "sns.catplot(x=\"Sex\", y=\"Survived\", kind=\"bar\", data=clean_titan_df)\n"
   ]
  },
  {
   "cell_type": "code",
   "execution_count": 41,
   "id": "2647a9a3",
   "metadata": {},
   "outputs": [
    {
     "data": {
      "text/plain": [
       "<seaborn.axisgrid.FacetGrid at 0x7fcafbd4ee80>"
      ]
     },
     "execution_count": 41,
     "metadata": {},
     "output_type": "execute_result"
    },
    {
     "data": {
      "image/png": "[encoded data removed]",
      "text/plain": [
       "<Figure size 402.375x360 with 1 Axes>"
      ]
     },
     "metadata": {
      "needs_background": "light"
     },
     "output_type": "display_data"
    }
   ],
   "source": [
    "# Shows survival rate is higher in females than in males\n",
    "# Shows that Class 1 has the most number of survival for both male and female, followed by class 2\n",
    "# The least survivors are males who belong to Class 3; This is similar with females who belong to Class 3\n",
    "\n",
    "sns.catplot(x=\"Sex\", y=\"Survived\", hue=\"Pclass\", kind=\"bar\", data=clean_titan_df)\n",
    "\n"
   ]
  },
  {
   "cell_type": "code",
   "execution_count": 42,
   "id": "84a7719c",
   "metadata": {},
   "outputs": [
    {
     "data": {
      "text/html": [
       "<div>\n",
       "<style scoped>\n",
       "    .dataframe tbody tr th:only-of-type {\n",
       "        vertical-align: middle;\n",
       "    }\n",
       "\n",
       "    .dataframe tbody tr th {\n",
       "        vertical-align: top;\n",
       "    }\n",
       "\n",
       "    .dataframe thead th {\n",
       "        text-align: right;\n",
       "    }\n",
       "</style>\n",
       "<table border=\"1\" class=\"dataframe\">\n",
       "  <thead>\n",
       "    <tr style=\"text-align: right;\">\n",
       "      <th></th>\n",
       "      <th>Age</th>\n",
       "      <th>Fare</th>\n",
       "      <th>Survived</th>\n",
       "    </tr>\n",
       "    <tr>\n",
       "      <th>Sex</th>\n",
       "      <th></th>\n",
       "      <th></th>\n",
       "      <th></th>\n",
       "    </tr>\n",
       "  </thead>\n",
       "  <tbody>\n",
       "    <tr>\n",
       "      <th>female</th>\n",
       "      <td>28.000000</td>\n",
       "      <td>44.479818</td>\n",
       "      <td>233</td>\n",
       "    </tr>\n",
       "    <tr>\n",
       "      <th>male</th>\n",
       "      <td>30.820052</td>\n",
       "      <td>25.523893</td>\n",
       "      <td>109</td>\n",
       "    </tr>\n",
       "  </tbody>\n",
       "</table>\n",
       "</div>"
      ],
      "text/plain": [
       "              Age       Fare  Survived\n",
       "Sex                                   \n",
       "female  28.000000  44.479818       233\n",
       "male    30.820052  25.523893       109"
      ]
     },
     "execution_count": 42,
     "metadata": {},
     "output_type": "execute_result"
    }
   ],
   "source": [
    "\n",
    "table = pd.pivot_table(clean_titan_df,index=['Sex'], aggfunc={'Age':np.mean, 'Fare':np.mean, 'Survived':np.sum})\n",
    "table\n",
    "\n"
   ]
  },
  {
   "cell_type": "code",
   "execution_count": 43,
   "id": "602e8f4d",
   "metadata": {},
   "outputs": [
    {
     "data": {
      "text/html": [
       "<div>\n",
       "<style scoped>\n",
       "    .dataframe tbody tr th:only-of-type {\n",
       "        vertical-align: middle;\n",
       "    }\n",
       "\n",
       "    .dataframe tbody tr th {\n",
       "        vertical-align: top;\n",
       "    }\n",
       "\n",
       "    .dataframe thead th {\n",
       "        text-align: right;\n",
       "    }\n",
       "</style>\n",
       "<table border=\"1\" class=\"dataframe\">\n",
       "  <thead>\n",
       "    <tr style=\"text-align: right;\">\n",
       "      <th></th>\n",
       "      <th></th>\n",
       "      <th>Age</th>\n",
       "      <th>Fare</th>\n",
       "      <th>Survived</th>\n",
       "    </tr>\n",
       "    <tr>\n",
       "      <th>Sex</th>\n",
       "      <th>Pclass</th>\n",
       "      <th></th>\n",
       "      <th></th>\n",
       "      <th></th>\n",
       "    </tr>\n",
       "  </thead>\n",
       "  <tbody>\n",
       "    <tr>\n",
       "      <th rowspan=\"3\" valign=\"top\">female</th>\n",
       "      <th>1</th>\n",
       "      <td>34.095745</td>\n",
       "      <td>106.125798</td>\n",
       "      <td>91</td>\n",
       "    </tr>\n",
       "    <tr>\n",
       "      <th>2</th>\n",
       "      <td>28.756579</td>\n",
       "      <td>21.970121</td>\n",
       "      <td>70</td>\n",
       "    </tr>\n",
       "    <tr>\n",
       "      <th>3</th>\n",
       "      <td>23.621528</td>\n",
       "      <td>16.118810</td>\n",
       "      <td>72</td>\n",
       "    </tr>\n",
       "    <tr>\n",
       "      <th rowspan=\"3\" valign=\"top\">male</th>\n",
       "      <th>1</th>\n",
       "      <td>39.683770</td>\n",
       "      <td>67.226127</td>\n",
       "      <td>45</td>\n",
       "    </tr>\n",
       "    <tr>\n",
       "      <th>2</th>\n",
       "      <td>30.845648</td>\n",
       "      <td>19.741782</td>\n",
       "      <td>17</td>\n",
       "    </tr>\n",
       "    <tr>\n",
       "      <th>3</th>\n",
       "      <td>27.695735</td>\n",
       "      <td>12.661633</td>\n",
       "      <td>47</td>\n",
       "    </tr>\n",
       "  </tbody>\n",
       "</table>\n",
       "</div>"
      ],
      "text/plain": [
       "                     Age        Fare  Survived\n",
       "Sex    Pclass                                 \n",
       "female 1       34.095745  106.125798        91\n",
       "       2       28.756579   21.970121        70\n",
       "       3       23.621528   16.118810        72\n",
       "male   1       39.683770   67.226127        45\n",
       "       2       30.845648   19.741782        17\n",
       "       3       27.695735   12.661633        47"
      ]
     },
     "execution_count": 43,
     "metadata": {},
     "output_type": "execute_result"
    }
   ],
   "source": [
    "# Table below shows us the mean of each Sex (male and female), Passenger Class (1,2,3) and the number of those who survived in each group\n",
    "\n",
    "table = pd.pivot_table(clean_titan_df,index=['Sex','Pclass'], aggfunc={'Age':np.mean, 'Fare':np.mean, 'Survived':np.sum})\n",
    "table\n",
    "\n",
    "\n"
   ]
  },
  {
   "cell_type": "markdown",
   "id": "7119e794",
   "metadata": {},
   "source": [
    "### Survival Rate and (Age and Pclass)"
   ]
  },
  {
   "cell_type": "code",
   "execution_count": 44,
   "id": "12f2ad91",
   "metadata": {},
   "outputs": [
    {
     "data": {
      "text/html": [
       "<div>\n",
       "<style scoped>\n",
       "    .dataframe tbody tr th:only-of-type {\n",
       "        vertical-align: middle;\n",
       "    }\n",
       "\n",
       "    .dataframe tbody tr th {\n",
       "        vertical-align: top;\n",
       "    }\n",
       "\n",
       "    .dataframe thead th {\n",
       "        text-align: right;\n",
       "    }\n",
       "</style>\n",
       "<table border=\"1\" class=\"dataframe\">\n",
       "  <thead>\n",
       "    <tr style=\"text-align: right;\">\n",
       "      <th></th>\n",
       "      <th></th>\n",
       "      <th>Age</th>\n",
       "      <th>Survived</th>\n",
       "    </tr>\n",
       "    <tr>\n",
       "      <th>Sex</th>\n",
       "      <th>Pclass</th>\n",
       "      <th></th>\n",
       "      <th></th>\n",
       "    </tr>\n",
       "  </thead>\n",
       "  <tbody>\n",
       "    <tr>\n",
       "      <th rowspan=\"3\" valign=\"top\">female</th>\n",
       "      <th>1</th>\n",
       "      <td>34.095745</td>\n",
       "      <td>91</td>\n",
       "    </tr>\n",
       "    <tr>\n",
       "      <th>2</th>\n",
       "      <td>28.756579</td>\n",
       "      <td>70</td>\n",
       "    </tr>\n",
       "    <tr>\n",
       "      <th>3</th>\n",
       "      <td>23.621528</td>\n",
       "      <td>72</td>\n",
       "    </tr>\n",
       "    <tr>\n",
       "      <th rowspan=\"3\" valign=\"top\">male</th>\n",
       "      <th>1</th>\n",
       "      <td>39.683770</td>\n",
       "      <td>45</td>\n",
       "    </tr>\n",
       "    <tr>\n",
       "      <th>2</th>\n",
       "      <td>30.845648</td>\n",
       "      <td>17</td>\n",
       "    </tr>\n",
       "    <tr>\n",
       "      <th>3</th>\n",
       "      <td>27.695735</td>\n",
       "      <td>47</td>\n",
       "    </tr>\n",
       "  </tbody>\n",
       "</table>\n",
       "</div>"
      ],
      "text/plain": [
       "                     Age  Survived\n",
       "Sex    Pclass                     \n",
       "female 1       34.095745        91\n",
       "       2       28.756579        70\n",
       "       3       23.621528        72\n",
       "male   1       39.683770        45\n",
       "       2       30.845648        17\n",
       "       3       27.695735        47"
      ]
     },
     "execution_count": 44,
     "metadata": {},
     "output_type": "execute_result"
    }
   ],
   "source": [
    "# different aggregate functions\n",
    "table = pd.pivot_table(clean_titan_df,index=['Sex','Pclass'],aggfunc={'Age':np.mean,'Survived':np.sum})\n",
    "table\n"
   ]
  },
  {
   "cell_type": "code",
   "execution_count": 45,
   "id": "e4968b71",
   "metadata": {},
   "outputs": [
    {
     "data": {
      "text/html": [
       "<div>\n",
       "<style scoped>\n",
       "    .dataframe tbody tr th:only-of-type {\n",
       "        vertical-align: middle;\n",
       "    }\n",
       "\n",
       "    .dataframe tbody tr th {\n",
       "        vertical-align: top;\n",
       "    }\n",
       "\n",
       "    .dataframe thead th {\n",
       "        text-align: right;\n",
       "    }\n",
       "</style>\n",
       "<table border=\"1\" class=\"dataframe\">\n",
       "  <thead>\n",
       "    <tr style=\"text-align: right;\">\n",
       "      <th></th>\n",
       "      <th>Age</th>\n",
       "    </tr>\n",
       "    <tr>\n",
       "      <th>Status</th>\n",
       "      <th></th>\n",
       "    </tr>\n",
       "  </thead>\n",
       "  <tbody>\n",
       "    <tr>\n",
       "      <th>Alive</th>\n",
       "      <td>28.463947</td>\n",
       "    </tr>\n",
       "    <tr>\n",
       "      <th>Dead</th>\n",
       "      <td>30.674863</td>\n",
       "    </tr>\n",
       "  </tbody>\n",
       "</table>\n",
       "</div>"
      ],
      "text/plain": [
       "              Age\n",
       "Status           \n",
       "Alive   28.463947\n",
       "Dead    30.674863"
      ]
     },
     "execution_count": 45,
     "metadata": {},
     "output_type": "execute_result"
    }
   ],
   "source": [
    "pd.pivot_table(clean_titan_df, index='Status', values=['Age'])"
   ]
  },
  {
   "cell_type": "code",
   "execution_count": 46,
   "id": "5aff3aea",
   "metadata": {},
   "outputs": [
    {
     "data": {
      "text/plain": [
       "<AxesSubplot:xlabel='Survived', ylabel='count'>"
      ]
     },
     "execution_count": 46,
     "metadata": {},
     "output_type": "execute_result"
    },
    {
     "data": {
      "image/png": "[encoded data removed]",
      "text/plain": [
       "<Figure size 432x288 with 1 Axes>"
      ]
     },
     "metadata": {
      "needs_background": "light"
     },
     "output_type": "display_data"
    }
   ],
   "source": [
    "sns.countplot(x='Survived', data=clean_titan_df, hue='AgeBracket')\n"
   ]
  },
  {
   "cell_type": "code",
   "execution_count": null,
   "id": "cad98c0a",
   "metadata": {},
   "outputs": [],
   "source": []
  },
  {
   "cell_type": "code",
   "execution_count": null,
   "id": "a8933bd8",
   "metadata": {},
   "outputs": [],
   "source": []
  },
  {
   "cell_type": "code",
   "execution_count": null,
   "id": "9eb97896",
   "metadata": {},
   "outputs": [],
   "source": []
  },
  {
   "cell_type": "code",
   "execution_count": null,
   "id": "0c6f8273",
   "metadata": {},
   "outputs": [],
   "source": []
  },
  {
   "cell_type": "code",
   "execution_count": null,
   "id": "08674076",
   "metadata": {},
   "outputs": [],
   "source": []
  },
  {
   "cell_type": "code",
   "execution_count": null,
   "id": "cf64aa4f",
   "metadata": {},
   "outputs": [],
   "source": []
  },
  {
   "cell_type": "code",
   "execution_count": null,
   "id": "60771eea",
   "metadata": {},
   "outputs": [],
   "source": []
  },
  {
   "cell_type": "code",
   "execution_count": null,
   "id": "540a3db9",
   "metadata": {},
   "outputs": [],
   "source": []
  },
  {
   "cell_type": "code",
   "execution_count": null,
   "id": "1e48b3a3",
   "metadata": {},
   "outputs": [],
   "source": []
  },
  {
   "cell_type": "code",
   "execution_count": null,
   "id": "8543df04",
   "metadata": {},
   "outputs": [],
   "source": []
  },
  {
   "cell_type": "code",
   "execution_count": null,
   "id": "c754a164",
   "metadata": {},
   "outputs": [],
   "source": []
  },
  {
   "cell_type": "code",
   "execution_count": null,
   "id": "3fc4412c",
   "metadata": {},
   "outputs": [],
   "source": []
  },
  {
   "cell_type": "code",
   "execution_count": null,
   "id": "138dab35",
   "metadata": {},
   "outputs": [],
   "source": []
  },
  {
   "cell_type": "code",
   "execution_count": null,
   "id": "afa2ec5d",
   "metadata": {},
   "outputs": [],
   "source": []
  },
  {
   "cell_type": "code",
   "execution_count": null,
   "id": "bbb5b4d0",
   "metadata": {},
   "outputs": [],
   "source": []
  },
  {
   "cell_type": "code",
   "execution_count": null,
   "id": "5900acfd",
   "metadata": {},
   "outputs": [],
   "source": []
  },
  {
   "cell_type": "code",
   "execution_count": null,
   "id": "a13478f5",
   "metadata": {},
   "outputs": [],
   "source": []
  },
  {
   "cell_type": "code",
   "execution_count": null,
   "id": "c1281f9d",
   "metadata": {},
   "outputs": [],
   "source": []
  },
  {
   "cell_type": "code",
   "execution_count": null,
   "id": "4e3deff3",
   "metadata": {},
   "outputs": [],
   "source": []
  },
  {
   "cell_type": "code",
   "execution_count": null,
   "id": "5de1f19a",
   "metadata": {},
   "outputs": [],
   "source": []
  },
  {
   "cell_type": "code",
   "execution_count": null,
   "id": "b92d4d33",
   "metadata": {},
   "outputs": [],
   "source": []
  },
  {
   "cell_type": "code",
   "execution_count": null,
   "id": "311c533e",
   "metadata": {},
   "outputs": [],
   "source": []
  },
  {
   "cell_type": "code",
   "execution_count": null,
   "id": "cdee217c",
   "metadata": {},
   "outputs": [],
   "source": []
  },
  {
   "cell_type": "code",
   "execution_count": null,
   "id": "afd7a69d",
   "metadata": {},
   "outputs": [],
   "source": []
  },
  {
   "cell_type": "code",
   "execution_count": null,
   "id": "224d60bb",
   "metadata": {},
   "outputs": [],
   "source": []
  },
  {
   "cell_type": "code",
   "execution_count": null,
   "id": "270e2d00",
   "metadata": {},
   "outputs": [],
   "source": []
  },
  {
   "cell_type": "code",
   "execution_count": null,
   "id": "0d50f6fb",
   "metadata": {},
   "outputs": [],
   "source": []
  },
  {
   "cell_type": "code",
   "execution_count": null,
   "id": "da0c7ad6",
   "metadata": {},
   "outputs": [],
   "source": []
  },
  {
   "cell_type": "code",
   "execution_count": null,
   "id": "1a412f13",
   "metadata": {},
   "outputs": [],
   "source": []
  },
  {
   "cell_type": "code",
   "execution_count": null,
   "id": "914b8e13",
   "metadata": {},
   "outputs": [],
   "source": []
  },
  {
   "cell_type": "code",
   "execution_count": null,
   "id": "e12caf7f",
   "metadata": {},
   "outputs": [],
   "source": []
  }
 ],
 "metadata": {
  "kernelspec": {
   "display_name": "Python 3 (ipykernel)",
   "language": "python",
   "name": "python3"
  },
  "language_info": {
   "codemirror_mode": {
    "name": "ipython",
    "version": 3
   },
   "file_extension": ".py",
   "mimetype": "text/x-python",
   "name": "python",
   "nbconvert_exporter": "python",
   "pygments_lexer": "ipython3",
   "version": "3.9.7"
  }
 },
 "nbformat": 4,
 "nbformat_minor": 5
}
